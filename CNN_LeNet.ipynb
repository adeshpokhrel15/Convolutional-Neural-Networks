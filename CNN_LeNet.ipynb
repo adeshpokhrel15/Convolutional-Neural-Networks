{
  "nbformat": 4,
  "nbformat_minor": 0,
  "metadata": {
    "colab": {
      "name": "CNN_LeNet.ipynb",
      "provenance": [],
      "collapsed_sections": []
    },
    "kernelspec": {
      "display_name": "Python 3",
      "name": "python3"
    },
    "language_info": {
      "name": "python"
    }
  },
  "cells": [
    {
      "cell_type": "code",
      "metadata": {
        "id": "dQxDwvUazY1v"
      },
      "source": [
        ""
      ],
      "execution_count": 19,
      "outputs": []
    },
    {
      "cell_type": "code",
      "metadata": {
        "id": "-pBR8O47zZ7z"
      },
      "source": [
        "from mxnet import autograd, gluon, init, np, npx\n",
        "from mxnet.gluon import nn\n",
        "npx.set_np()\n"
      ],
      "execution_count": 19,
      "outputs": []
    },
    {
      "cell_type": "code",
      "metadata": {
        "id": "KDqomsTtz-_l"
      },
      "source": [
        "net=nn.Sequential()\n"
      ],
      "execution_count": 5,
      "outputs": []
    },
    {
      "cell_type": "code",
      "metadata": {
        "id": "eRZq7NBZ0wWr"
      },
      "source": [
        "net.add(\n",
        "    nn.Conv2D(channels=6, kernel_size=5, padding=2, activation='sigmoid'),\n",
        "    nn.AvgPool2D(pool_size=2, strides=2),\n",
        "    nn.Conv2D(channels=16, kernel_size=5, activation='sigmoid'),\n",
        "    nn.AvgPool2D(pool_size=2, strides=2),\n",
        "# `Dense` will transform an input of the shape (batch size, number of\n",
        "# channels, height, width) into an input of the shape (batch size,\n",
        "# number of channels * height * width) automatically by default\n",
        "    nn.Dense(120, activation='sigmoid'), nn.Dense(84, activation='sigmoid'),\n",
        "    nn.Dense(10))\n",
        "    "
      ],
      "execution_count": 6,
      "outputs": []
    },
    {
      "cell_type": "code",
      "metadata": {
        "colab": {
          "base_uri": "https://localhost:8080/"
        },
        "id": "_shd5lgT1E7F",
        "outputId": "437f9356-f7d2-4db1-f46f-aa0ad49e19f6"
      },
      "source": [
        "X = np.random.uniform(size=(1, 1, 28, 28))\n",
        "net.initialize()\n",
        "for layer in net:\n",
        "  X = layer(X)\n",
        "  print(layer.name, 'output shape:\\t', X.shape)"
      ],
      "execution_count": 7,
      "outputs": [
        {
          "output_type": "stream",
          "text": [
            "conv0 output shape:\t (1, 6, 28, 28)\n",
            "pool0 output shape:\t (1, 6, 14, 14)\n",
            "conv1 output shape:\t (1, 16, 10, 10)\n",
            "pool1 output shape:\t (1, 16, 5, 5)\n",
            "dense0 output shape:\t (1, 120)\n",
            "dense1 output shape:\t (1, 84)\n",
            "dense2 output shape:\t (1, 10)\n"
          ],
          "name": "stdout"
        }
      ]
    },
    {
      "cell_type": "code",
      "metadata": {
        "id": "eQB5DJ7F1j2p"
      },
      "source": [
        "# height and width of the representation at each layer throughout the convolutional block is reduced (compared with the previous layer)\n",
        "# each pooling layer halves the height and width. Finally, each fully-connected layer reduces dimensionality, finally emitting an output whose dimension matches the number of classes."
      ],
      "execution_count": 8,
      "outputs": []
    },
    {
      "cell_type": "code",
      "metadata": {
        "id": "_AIKocr93wyj"
      },
      "source": [
        ""
      ],
      "execution_count": null,
      "outputs": []
    }
  ]
}