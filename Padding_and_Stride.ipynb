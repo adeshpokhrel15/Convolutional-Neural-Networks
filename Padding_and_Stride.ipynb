{
  "nbformat": 4,
  "nbformat_minor": 0,
  "metadata": {
    "colab": {
      "name": "Padding and Stride.ipynb",
      "provenance": [],
      "collapsed_sections": []
    },
    "kernelspec": {
      "display_name": "Python 3",
      "name": "python3"
    },
    "language_info": {
      "name": "python"
    }
  },
  "cells": [
    {
      "cell_type": "code",
      "metadata": {
        "id": "1wpQDmauJaDz"
      },
      "source": [
        "#Padding"
      ],
      "execution_count": 1,
      "outputs": []
    },
    {
      "cell_type": "code",
      "metadata": {
        "id": "EiMkubw3NtqN"
      },
      "source": [
        "from mxnet import np,npx\n",
        "from mxnet.gluon import nn"
      ],
      "execution_count": 4,
      "outputs": []
    },
    {
      "cell_type": "code",
      "metadata": {
        "id": "9VHQRpnFN1sW"
      },
      "source": [
        "npx.set_np()"
      ],
      "execution_count": 5,
      "outputs": []
    },
    {
      "cell_type": "code",
      "metadata": {
        "id": "1IYhTHg9N3r0"
      },
      "source": [
        "#For convenience, we define a function to calculate the convolutional layer.\n",
        "# This function initializes the convolutional layer weights and performs\n",
        "# corresponding dimensionality elevations and reductions on the input and"
      ],
      "execution_count": 6,
      "outputs": []
    },
    {
      "cell_type": "code",
      "metadata": {
        "id": "86NKhaB0OFqp"
      },
      "source": [
        "def comp_conv2d(conv2d, X):\n",
        "  conv2d.initialize()\n",
        "  X = X.reshape((1, 1) + X.shape)  ## Here (1, 1) indicates that the batch size and the number of channels are both 1\n",
        "  Y = conv2d(X)\n",
        "  return Y.reshape(Y.shape[2:]) #Exclude the first two dimensions that do not interest\n"
      ],
      "execution_count": 7,
      "outputs": []
    },
    {
      "cell_type": "code",
      "metadata": {
        "colab": {
          "base_uri": "https://localhost:8080/"
        },
        "id": "n18cTg4GOXgh",
        "outputId": "9dad4690-93b3-44dc-c6cc-d2ea8b0874b4"
      },
      "source": [
        "#here 1 row or column is padded on either side, so a total of 2 rows or columns are added\n",
        "conv2d = nn.Conv2D(1, kernel_size=3, padding=1)\n",
        "X = np.random.uniform(size=(8, 8))\n",
        "comp_conv2d(conv2d, X).shape\n"
      ],
      "execution_count": 8,
      "outputs": [
        {
          "output_type": "execute_result",
          "data": {
            "text/plain": [
              "(8, 8)"
            ]
          },
          "metadata": {
            "tags": []
          },
          "execution_count": 8
        }
      ]
    },
    {
      "cell_type": "code",
      "metadata": {
        "colab": {
          "base_uri": "https://localhost:8080/"
        },
        "id": "ax9L2jkAOaZp",
        "outputId": "803b78cd-b0b8-4497-a93e-a9f29e640b4c"
      },
      "source": [
        "#Here, we use a convolution kernel with a height of 5 and a width of 3\n",
        "#The padding numbers on either side of the height and width are 2 and 1 respectively\n",
        "conv2d = nn.Conv2D(1, kernel_size=(5, 3), padding=(2, 1))\n",
        "comp_conv2d(conv2d, X).shape"
      ],
      "execution_count": 10,
      "outputs": [
        {
          "output_type": "execute_result",
          "data": {
            "text/plain": [
              "(8, 8)"
            ]
          },
          "metadata": {
            "tags": []
          },
          "execution_count": 10
        }
      ]
    },
    {
      "cell_type": "code",
      "metadata": {
        "id": "XLxkB-IHOhrC"
      },
      "source": [
        "### Stride"
      ],
      "execution_count": 11,
      "outputs": []
    },
    {
      "cell_type": "code",
      "metadata": {
        "colab": {
          "base_uri": "https://localhost:8080/"
        },
        "id": "a9Xz2m0POtlh",
        "outputId": "33b79fa6-4a20-499f-8481-74615ecb8a0b"
      },
      "source": [
        "#we set the strides on both the height and width to 2, thus halving the input height and width\n",
        "conv2d = nn.Conv2D(1, kernel_size=3, padding=1, strides=2)\n",
        "comp_conv2d(conv2d, X).shape"
      ],
      "execution_count": 12,
      "outputs": [
        {
          "output_type": "execute_result",
          "data": {
            "text/plain": [
              "(4, 4)"
            ]
          },
          "metadata": {
            "tags": []
          },
          "execution_count": 12
        }
      ]
    },
    {
      "cell_type": "code",
      "metadata": {
        "id": "dNj8O8EjOzBH"
      },
      "source": [
        ""
      ],
      "execution_count": null,
      "outputs": []
    }
  ]
}