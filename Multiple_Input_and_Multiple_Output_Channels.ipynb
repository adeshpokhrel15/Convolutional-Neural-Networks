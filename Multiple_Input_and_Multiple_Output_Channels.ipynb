{
  "nbformat": 4,
  "nbformat_minor": 0,
  "metadata": {
    "colab": {
      "name": "Multiple Input and Multiple Output Channels.ipynb",
      "provenance": [],
      "collapsed_sections": []
    },
    "kernelspec": {
      "display_name": "Python 3",
      "name": "python3"
    },
    "language_info": {
      "name": "python"
    }
  },
  "cells": [
    {
      "cell_type": "code",
      "metadata": {
        "id": "1wpQDmauJaDz"
      },
      "source": [
        "#Multiple Input Channels"
      ],
      "execution_count": 1,
      "outputs": []
    },
    {
      "cell_type": "code",
      "metadata": {
        "id": "EiMkubw3NtqN"
      },
      "source": [
        "from mxnet import np,npx\n",
        "from mxnet.gluon import nn"
      ],
      "execution_count": 22,
      "outputs": []
    },
    {
      "cell_type": "code",
      "metadata": {
        "id": "9VHQRpnFN1sW"
      },
      "source": [
        "npx.set_np()"
      ],
      "execution_count": 23,
      "outputs": []
    },
    {
      "cell_type": "code",
      "metadata": {
        "id": "1IYhTHg9N3r0"
      },
      "source": [
        "\n",
        "def corr2d_multi_in(X, K):\n",
        "# First, iterate through the 0th dimension (channel dimension) of `X` and\n",
        "# `K`. Then, add them together\n",
        "  return sum(corr2d_multi_in(x, k) for x, k in zip(X, K))"
      ],
      "execution_count": 33,
      "outputs": []
    },
    {
      "cell_type": "code",
      "metadata": {
        "id": "dNj8O8EjOzBH"
      },
      "source": [
        "X = np.array([[[0.0, 1.0, 2.0], [3.0, 4.0, 5.0], [6.0, 7.0, 8.0]],\n",
        "[[1.0, 2.0, 3.0], [4.0, 5.0, 6.0], [7.0, 8.0, 9.0]]])\n",
        "K = np.array([[[0.0, 1.0], [2.0, 3.0]], [[1.0, 2.0], [3.0, 4.0]]])\n"
      ],
      "execution_count": 34,
      "outputs": []
    },
    {
      "cell_type": "code",
      "metadata": {
        "colab": {
          "base_uri": "https://localhost:8080/"
        },
        "id": "6cR1ecHitN_j",
        "outputId": "6c3fafc5-4eb9-47cb-afda-788a96dc26f1"
      },
      "source": [
        "corr2d_multi_in(X, K)"
      ],
      "execution_count": 35,
      "outputs": [
        {
          "output_type": "execute_result",
          "data": {
            "text/plain": [
              "0"
            ]
          },
          "metadata": {
            "tags": []
          },
          "execution_count": 35
        }
      ]
    },
    {
      "cell_type": "code",
      "metadata": {
        "id": "q8luQJ08tcAb"
      },
      "source": [
        "#Multiple Output Channels"
      ],
      "execution_count": 27,
      "outputs": []
    },
    {
      "cell_type": "code",
      "metadata": {
        "id": "sc0-RSaruJ94"
      },
      "source": [
        "def corr2d_multi_in_out(X, K):\n",
        "# Iterate through the 0th dimension of `K`, and each time, perform\n",
        "# cross-correlation operations with input `X`. All of the results are\n",
        "# stacked together\n",
        "  return np.stack([corr2d_multi_in(X, k) for k in K], 0)"
      ],
      "execution_count": 29,
      "outputs": []
    },
    {
      "cell_type": "code",
      "metadata": {
        "colab": {
          "base_uri": "https://localhost:8080/"
        },
        "id": "Pq6hVXWLuL70",
        "outputId": "ee0ff6c1-c7d1-42aa-f915-c1bf3ceee7cb"
      },
      "source": [
        "K = np.stack((K, K + 1, K + 2), 0)\n",
        "K.shape\n"
      ],
      "execution_count": 36,
      "outputs": [
        {
          "output_type": "execute_result",
          "data": {
            "text/plain": [
              "(3, 2, 2, 2)"
            ]
          },
          "metadata": {
            "tags": []
          },
          "execution_count": 36
        }
      ]
    },
    {
      "cell_type": "code",
      "metadata": {
        "colab": {
          "base_uri": "https://localhost:8080/"
        },
        "id": "DLdUEKO9uav3",
        "outputId": "f1ec1013-6b23-4bcf-8ea6-e79946f18a94"
      },
      "source": [
        "corr2d_multi_in(X, K)\n"
      ],
      "execution_count": 38,
      "outputs": [
        {
          "output_type": "execute_result",
          "data": {
            "text/plain": [
              "0"
            ]
          },
          "metadata": {
            "tags": []
          },
          "execution_count": 38
        }
      ]
    },
    {
      "cell_type": "code",
      "metadata": {
        "id": "8f2JQqk7ucsx"
      },
      "source": [
        "#Convolutional Layer\n"
      ],
      "execution_count": 39,
      "outputs": []
    },
    {
      "cell_type": "code",
      "metadata": {
        "id": "bt9vuxrRuhDR"
      },
      "source": [
        "def corr2d_multi_in_out_1x1(X, K):\n",
        "  c_i, h, w = X.shape\n",
        "  c_o = K.shape[0]\n",
        "  X = X.reshape((c_i, h * w))\n",
        "  K = K.reshape((c_o, c_i))\n",
        "# Matrix multiplication in the fully-connected layer\n",
        "  Y = np.dot(K, X)\n",
        "  return Y.reshape((c_o, h, w))"
      ],
      "execution_count": 40,
      "outputs": []
    },
    {
      "cell_type": "code",
      "metadata": {
        "id": "zJtUaFoRumTT"
      },
      "source": [
        "X = np.random.normal(0, 1, (3, 3, 3))\n",
        "K = np.random.normal(0, 1, (2, 3, 1, 1))\n"
      ],
      "execution_count": 41,
      "outputs": []
    },
    {
      "cell_type": "code",
      "metadata": {
        "id": "-t86-g6puoW7"
      },
      "source": [
        "Y1 = corr2d_multi_in_out_1x1(X, K)\n",
        "Y2 = corr2d_multi_in(X, K)\n",
        "assert float(np.abs(Y1 - Y2).sum())"
      ],
      "execution_count": 46,
      "outputs": []
    },
    {
      "cell_type": "code",
      "metadata": {
        "id": "KwYJMVIQurdn"
      },
      "source": [
        ""
      ],
      "execution_count": null,
      "outputs": []
    }
  ]
}