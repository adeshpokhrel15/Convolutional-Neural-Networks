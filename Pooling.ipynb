{
  "nbformat": 4,
  "nbformat_minor": 0,
  "metadata": {
    "colab": {
      "name": "Pooling.ipynb",
      "provenance": [],
      "collapsed_sections": []
    },
    "kernelspec": {
      "display_name": "Python 3",
      "name": "python3"
    },
    "language_info": {
      "name": "python"
    }
  },
  "cells": [
    {
      "cell_type": "code",
      "metadata": {
        "id": "VF3AchjPv2Cl"
      },
      "source": [
        "#Maximum and Average poling"
      ],
      "execution_count": 47,
      "outputs": []
    },
    {
      "cell_type": "code",
      "metadata": {
        "id": "KwYJMVIQurdn"
      },
      "source": [
        "from mxnet import np, npx\n",
        "from mxnet.gluon import nn\n",
        "#from d2l import mxnet as d2l"
      ],
      "execution_count": 50,
      "outputs": []
    },
    {
      "cell_type": "code",
      "metadata": {
        "id": "miLsZuf1xegi"
      },
      "source": [
        "npx.set_np()"
      ],
      "execution_count": 51,
      "outputs": []
    },
    {
      "cell_type": "code",
      "metadata": {
        "id": "-ivfGXGzxgN-"
      },
      "source": [
        "def pool2d(X, pool_size, mode='max'):\n",
        "  p_h, p_w = pool_size\n",
        "  Y = np.zeros((X.shape[0] - p_h + 1, X.shape[1] - p_w + 1))\n",
        "  for i in range(Y.shape[0]):\n",
        "    for j in range(Y.shape[1]):\n",
        "      if mode == 'max':\n",
        "        Y[i, j] = X[i:i + p_h, j:j + p_w].max()\n",
        "      elif mode == 'avg':\n",
        "        Y[i, j] = X[i:i + p_h, j:j + p_w].mean()\n",
        "  return Y\n"
      ],
      "execution_count": 63,
      "outputs": []
    },
    {
      "cell_type": "code",
      "metadata": {
        "colab": {
          "base_uri": "https://localhost:8080/"
        },
        "id": "CWUFBac9x7Q3",
        "outputId": "efde0904-b196-404e-841e-da7ff5437669"
      },
      "source": [
        "#For maximum\n",
        "X = np.array([[0.0, 1.0, 2.0], [3.0, 4.0, 5.0], [6.0, 7.0, 8.0]])\n",
        "pool2d(X, (2, 2))\n"
      ],
      "execution_count": 64,
      "outputs": [
        {
          "output_type": "execute_result",
          "data": {
            "text/plain": [
              "array([[4., 5.],\n",
              "       [7., 8.]])"
            ]
          },
          "metadata": {
            "tags": []
          },
          "execution_count": 64
        }
      ]
    },
    {
      "cell_type": "code",
      "metadata": {
        "colab": {
          "base_uri": "https://localhost:8080/"
        },
        "id": "jS9SzBpxyN_f",
        "outputId": "0b130c45-5d8b-417b-b44a-bbd4cf726cff"
      },
      "source": [
        "#for average\n",
        "pool2d(X, (2, 2), 'avg')\n"
      ],
      "execution_count": 65,
      "outputs": [
        {
          "output_type": "execute_result",
          "data": {
            "text/plain": [
              "array([[2., 3.],\n",
              "       [5., 6.]])"
            ]
          },
          "metadata": {
            "tags": []
          },
          "execution_count": 65
        }
      ]
    },
    {
      "cell_type": "code",
      "metadata": {
        "id": "kwsk-guEy9T6"
      },
      "source": [
        "### Padding and Stride"
      ],
      "execution_count": 66,
      "outputs": []
    },
    {
      "cell_type": "code",
      "metadata": {
        "colab": {
          "base_uri": "https://localhost:8080/"
        },
        "id": "VqlAjgwZzD6r",
        "outputId": "d753a94d-7951-4ba2-e01f-7068711e6aa7"
      },
      "source": [
        "X = np.arange(16, dtype=np.float32).reshape((1, 1, 4, 4))\n",
        "X"
      ],
      "execution_count": 67,
      "outputs": [
        {
          "output_type": "execute_result",
          "data": {
            "text/plain": [
              "array([[[[ 0.,  1.,  2.,  3.],\n",
              "         [ 4.,  5.,  6.,  7.],\n",
              "         [ 8.,  9., 10., 11.],\n",
              "         [12., 13., 14., 15.]]]])"
            ]
          },
          "metadata": {
            "tags": []
          },
          "execution_count": 67
        }
      ]
    },
    {
      "cell_type": "code",
      "metadata": {
        "colab": {
          "base_uri": "https://localhost:8080/"
        },
        "id": "uM24UYL-zFOt",
        "outputId": "0822e231-d4ea-4424-b651-c0c926eb8463"
      },
      "source": [
        "pool2d = nn.MaxPool2D(3)\n",
        "# Because there are no model parameters in the pooling layer, we do not need\n",
        "# to call the parameter initialization function\n",
        "pool2d(X)"
      ],
      "execution_count": 68,
      "outputs": [
        {
          "output_type": "execute_result",
          "data": {
            "text/plain": [
              "array([[[[10.]]]])"
            ]
          },
          "metadata": {
            "tags": []
          },
          "execution_count": 68
        }
      ]
    },
    {
      "cell_type": "code",
      "metadata": {
        "colab": {
          "base_uri": "https://localhost:8080/"
        },
        "id": "4EoD4vaFzIBg",
        "outputId": "6c3611e7-60ae-45af-bc08-80417fefd826"
      },
      "source": [
        "pool2d = nn.MaxPool2D(3, padding=1, strides=2)  #The stride and padding can be manually specified\n",
        "pool2d(X)"
      ],
      "execution_count": 70,
      "outputs": [
        {
          "output_type": "execute_result",
          "data": {
            "text/plain": [
              "array([[[[ 5.,  7.],\n",
              "         [13., 15.]]]])"
            ]
          },
          "metadata": {
            "tags": []
          },
          "execution_count": 70
        }
      ]
    },
    {
      "cell_type": "code",
      "metadata": {
        "colab": {
          "base_uri": "https://localhost:8080/"
        },
        "id": "o3yALXAEzJnx",
        "outputId": "523dc405-278d-4954-a490-068f0a7cdff8"
      },
      "source": [
        "pool2d = nn.MaxPool2D((2, 3), padding=(0, 1), strides=(2, 3))\n",
        "pool2d(X)"
      ],
      "execution_count": 71,
      "outputs": [
        {
          "output_type": "execute_result",
          "data": {
            "text/plain": [
              "array([[[[ 5.,  7.],\n",
              "         [13., 15.]]]])"
            ]
          },
          "metadata": {
            "tags": []
          },
          "execution_count": 71
        }
      ]
    },
    {
      "cell_type": "code",
      "metadata": {
        "id": "MCht2NmczNzb"
      },
      "source": [
        "### Multiple Channels"
      ],
      "execution_count": 72,
      "outputs": []
    },
    {
      "cell_type": "code",
      "metadata": {
        "colab": {
          "base_uri": "https://localhost:8080/"
        },
        "id": "hpnAQn6_zRn3",
        "outputId": "9ff19f3d-fcdc-45c6-8cab-c0a82dd2bfcf"
      },
      "source": [
        "X = np.concatenate((X, X + 1), 1)  #construct an input with 2 channels\n",
        "X"
      ],
      "execution_count": 73,
      "outputs": [
        {
          "output_type": "execute_result",
          "data": {
            "text/plain": [
              "array([[[[ 0.,  1.,  2.,  3.],\n",
              "         [ 4.,  5.,  6.,  7.],\n",
              "         [ 8.,  9., 10., 11.],\n",
              "         [12., 13., 14., 15.]],\n",
              "\n",
              "        [[ 1.,  2.,  3.,  4.],\n",
              "         [ 5.,  6.,  7.,  8.],\n",
              "         [ 9., 10., 11., 12.],\n",
              "         [13., 14., 15., 16.]]]])"
            ]
          },
          "metadata": {
            "tags": []
          },
          "execution_count": 73
        }
      ]
    },
    {
      "cell_type": "code",
      "metadata": {
        "colab": {
          "base_uri": "https://localhost:8080/"
        },
        "id": "NiCTO2UezX4N",
        "outputId": "760c4dea-d7cc-4183-abc1-424b142c5fa7"
      },
      "source": [
        "#number of output channels is still 2 after pooling\n",
        "pool2d = nn.MaxPool2D(3, padding=1, strides=2)\n",
        "pool2d(X)\n"
      ],
      "execution_count": 74,
      "outputs": [
        {
          "output_type": "execute_result",
          "data": {
            "text/plain": [
              "array([[[[ 5.,  7.],\n",
              "         [13., 15.]],\n",
              "\n",
              "        [[ 6.,  8.],\n",
              "         [14., 16.]]]])"
            ]
          },
          "metadata": {
            "tags": []
          },
          "execution_count": 74
        }
      ]
    },
    {
      "cell_type": "code",
      "metadata": {
        "id": "avm0pJKDzaU8"
      },
      "source": [
        ""
      ],
      "execution_count": null,
      "outputs": []
    }
  ]
}