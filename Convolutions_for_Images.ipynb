{
  "nbformat": 4,
  "nbformat_minor": 0,
  "metadata": {
    "colab": {
      "name": "Convolutions for Images.ipynb",
      "provenance": [],
      "collapsed_sections": []
    },
    "kernelspec": {
      "display_name": "Python 3",
      "name": "python3"
    },
    "language_info": {
      "name": "python"
    }
  },
  "cells": [
    {
      "cell_type": "code",
      "metadata": {
        "id": "FjCKfGMvqgaL"
      },
      "source": [
        "#The Cross-Correlation Operation\n"
      ],
      "execution_count": 12,
      "outputs": []
    },
    {
      "cell_type": "code",
      "metadata": {
        "id": "BOK4Bf6q_ecD"
      },
      "source": [
        "from mxnet import autograd, np, npx\n",
        "from mxnet.gluon import nn\n",
        "#from d2l import mxnet as d2l"
      ],
      "execution_count": 13,
      "outputs": []
    },
    {
      "cell_type": "code",
      "metadata": {
        "id": "myWvAaq--ZMb"
      },
      "source": [
        "npx.set_np()\n"
      ],
      "execution_count": 14,
      "outputs": []
    },
    {
      "cell_type": "code",
      "metadata": {
        "id": "kd-dc5-E-bHl"
      },
      "source": [
        "def corr2d(X, K): #save\n",
        "  h, w = K.shape                                   \n",
        "#Compute 2D cross-correlation\n",
        "  Y = np.zeros((X.shape[0] - h + 1, X.shape[1] - w + 1))\n",
        "  for i in range(Y.shape[0]):\n",
        "    for j in range(Y.shape[1]):\n",
        "      Y[i, j] = (X[i:i + h, j:j + w] * K).sum()\n",
        "  return Y"
      ],
      "execution_count": 15,
      "outputs": []
    },
    {
      "cell_type": "code",
      "metadata": {
        "colab": {
          "base_uri": "https://localhost:8080/"
        },
        "id": "HitmU7hI_PEn",
        "outputId": "eb27ead1-c0ab-4c4f-8d12-4337a8472756"
      },
      "source": [
        "X = np.array([[0.0, 1.0, 2.0], [3.0, 4.0, 5.0], [6.0, 7.0, 8.0]])\n",
        "K = np.array([[0.0, 1.0], [2.0, 3.0]])\n",
        "corr2d(X, K)\n"
      ],
      "execution_count": 16,
      "outputs": [
        {
          "output_type": "execute_result",
          "data": {
            "text/plain": [
              "array([[19., 25.],\n",
              "       [37., 43.]])"
            ]
          },
          "metadata": {
            "tags": []
          },
          "execution_count": 16
        }
      ]
    },
    {
      "cell_type": "code",
      "metadata": {
        "id": "lR3TdeHj_YPv"
      },
      "source": [
        "### Convolutional Layers\n"
      ],
      "execution_count": 17,
      "outputs": []
    },
    {
      "cell_type": "code",
      "metadata": {
        "id": "l7G-Fc1h_cPH"
      },
      "source": [
        "class Conv2D(nn.Block):\n",
        "  def __init__(self, kernel_size, **kwargs):\n",
        "    super().__init__(**kwargs)\n",
        "    self.weight = self.params.get('weight', shape=kernel_size)\n",
        "    self.bias = self.params.get('bias', shape=(1,))\n",
        "    def forward(self, x):\n",
        "      return corr2d(x, self.weight.data()) + self.bias.data()"
      ],
      "execution_count": 18,
      "outputs": []
    },
    {
      "cell_type": "code",
      "metadata": {
        "id": "TmJ_Wdbd_dmJ"
      },
      "source": [
        "#Object Edge Detection in Images"
      ],
      "execution_count": 19,
      "outputs": []
    },
    {
      "cell_type": "code",
      "metadata": {
        "colab": {
          "base_uri": "https://localhost:8080/"
        },
        "id": "lwo8uSLgEkBp",
        "outputId": "398546a8-d8be-4d48-8f1f-88ea07e8ed50"
      },
      "source": [
        "X = np.ones((6, 8))  #we construct an “image” of 6 × 8 pixels. The middle four columns are black (0) and the rest are white (1).\n",
        "X[:, 2:6] = 0\n",
        "X"
      ],
      "execution_count": 20,
      "outputs": [
        {
          "output_type": "execute_result",
          "data": {
            "text/plain": [
              "array([[1., 1., 0., 0., 0., 0., 1., 1.],\n",
              "       [1., 1., 0., 0., 0., 0., 1., 1.],\n",
              "       [1., 1., 0., 0., 0., 0., 1., 1.],\n",
              "       [1., 1., 0., 0., 0., 0., 1., 1.],\n",
              "       [1., 1., 0., 0., 0., 0., 1., 1.],\n",
              "       [1., 1., 0., 0., 0., 0., 1., 1.]])"
            ]
          },
          "metadata": {
            "tags": []
          },
          "execution_count": 20
        }
      ]
    },
    {
      "cell_type": "code",
      "metadata": {
        "id": "_9LR1GQwEl_O"
      },
      "source": [
        "K = np.array([[1.0, -1.0]]) #we construct a kernel K with a height of 1 and a width of 2"
      ],
      "execution_count": 21,
      "outputs": []
    },
    {
      "cell_type": "code",
      "metadata": {
        "colab": {
          "base_uri": "https://localhost:8080/"
        },
        "id": "UQcCJflDGix2",
        "outputId": "2c5b03b8-2d71-4427-dc15-f0a643e23dd6"
      },
      "source": [
        "#we detect 1 for the edge from white to black and -1 for the edge from black to white. All other outputs take value 0.\n",
        "Y = corr2d(X, K)\n",
        "Y\n"
      ],
      "execution_count": 22,
      "outputs": [
        {
          "output_type": "execute_result",
          "data": {
            "text/plain": [
              "array([[ 0.,  1.,  0.,  0.,  0., -1.,  0.],\n",
              "       [ 0.,  1.,  0.,  0.,  0., -1.,  0.],\n",
              "       [ 0.,  1.,  0.,  0.,  0., -1.,  0.],\n",
              "       [ 0.,  1.,  0.,  0.,  0., -1.,  0.],\n",
              "       [ 0.,  1.,  0.,  0.,  0., -1.,  0.],\n",
              "       [ 0.,  1.,  0.,  0.,  0., -1.,  0.]])"
            ]
          },
          "metadata": {
            "tags": []
          },
          "execution_count": 22
        }
      ]
    },
    {
      "cell_type": "code",
      "metadata": {
        "colab": {
          "base_uri": "https://localhost:8080/"
        },
        "id": "kUctn0QNGlPy",
        "outputId": "c17478f7-9b4c-46d2-bd82-4d5c3984f340"
      },
      "source": [
        "#apply the kernel to the transposed image\n",
        "#The kernel K only detects vertical edges\n",
        "corr2d(X.T, K)"
      ],
      "execution_count": 23,
      "outputs": [
        {
          "output_type": "execute_result",
          "data": {
            "text/plain": [
              "array([[0., 0., 0., 0., 0.],\n",
              "       [0., 0., 0., 0., 0.],\n",
              "       [0., 0., 0., 0., 0.],\n",
              "       [0., 0., 0., 0., 0.],\n",
              "       [0., 0., 0., 0., 0.],\n",
              "       [0., 0., 0., 0., 0.],\n",
              "       [0., 0., 0., 0., 0.],\n",
              "       [0., 0., 0., 0., 0.]])"
            ]
          },
          "metadata": {
            "tags": []
          },
          "execution_count": 23
        }
      ]
    },
    {
      "cell_type": "code",
      "metadata": {
        "id": "PinJl2f9GnkM"
      },
      "source": [
        "### Learning a Kernel"
      ],
      "execution_count": 24,
      "outputs": []
    },
    {
      "cell_type": "code",
      "metadata": {
        "id": "092vcnx-Iefo"
      },
      "source": [
        "#let us see whether we can learn the kernel that generated Y from X by looking at the input–output pairs only\n",
        "# Construct a two-dimensional convolutional layer with 1 output channel and a\n",
        "# kernel of shape (1, 2). For the sake of simplicity, we ignore the bias here"
      ],
      "execution_count": 27,
      "outputs": []
    },
    {
      "cell_type": "code",
      "metadata": {
        "id": "kk-rxZUYJBxP"
      },
      "source": [
        "conv2d = nn.Conv2D(1, kernel_size=(1, 2), use_bias=False)\n",
        "conv2d.initialize()"
      ],
      "execution_count": 28,
      "outputs": []
    },
    {
      "cell_type": "code",
      "metadata": {
        "id": "Ynoh3cb0JHmO"
      },
      "source": [
        "# The two-dimensional convolutional layer uses four-dimensional input and\n",
        "# output in the format of (example, channel, height, width), where the batch\n",
        "# size (number of examples in the batch) and the number of channels are both 1\n"
      ],
      "execution_count": 29,
      "outputs": []
    },
    {
      "cell_type": "code",
      "metadata": {
        "id": "fRHTM8W5JKX7"
      },
      "source": [
        "X = X.reshape(1, 1, 6, 8)\n",
        "Y = Y.reshape(1, 1, 6, 7)\n",
        "lr = 3e-2 # Learning rate\n"
      ],
      "execution_count": 30,
      "outputs": []
    },
    {
      "cell_type": "code",
      "metadata": {
        "colab": {
          "base_uri": "https://localhost:8080/"
        },
        "id": "AjQsiXdCJMCh",
        "outputId": "42638e36-9fd3-4d02-bb9f-647eea89ce80"
      },
      "source": [
        "for i in range(10):\n",
        "  with autograd.record():\n",
        "    Y_hat = conv2d(X)\n",
        "    l = (Y_hat - Y)**2\n",
        "l.backward()\n",
        "# Update the kernel\n",
        "conv2d.weight.data()[:] -= lr * conv2d.weight.grad()\n",
        "if (i + 1) % 2 == 0:\n",
        "  print(f'batch {i + 1}, loss {float(l.sum()):.3f}')"
      ],
      "execution_count": 32,
      "outputs": [
        {
          "output_type": "stream",
          "text": [
            "batch 10, loss 12.080\n"
          ],
          "name": "stdout"
        }
      ]
    },
    {
      "cell_type": "code",
      "metadata": {
        "colab": {
          "base_uri": "https://localhost:8080/"
        },
        "id": "_EmHSTJLJUiA",
        "outputId": "c17e07c6-b29e-488c-c34e-5d0991f01717"
      },
      "source": [
        "conv2d.weight.data().reshape((1, 2))  #look at kernal tensor\n",
        "\n",
        "#the learned kernel tensor is remarkably close to the kernel tensor "
      ],
      "execution_count": 33,
      "outputs": [
        {
          "output_type": "execute_result",
          "data": {
            "text/plain": [
              "array([[ 0.35009456, -0.3659602 ]])"
            ]
          },
          "metadata": {
            "tags": []
          },
          "execution_count": 33
        }
      ]
    },
    {
      "cell_type": "code",
      "metadata": {
        "id": "1wpQDmauJaDz"
      },
      "source": [
        ""
      ],
      "execution_count": null,
      "outputs": []
    }
  ]
}