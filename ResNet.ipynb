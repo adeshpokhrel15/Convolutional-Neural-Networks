{
  "nbformat": 4,
  "nbformat_minor": 0,
  "metadata": {
    "colab": {
      "name": "ResNet.ipynb",
      "provenance": [],
      "collapsed_sections": []
    },
    "kernelspec": {
      "display_name": "Python 3",
      "name": "python3"
    },
    "language_info": {
      "name": "python"
    }
  },
  "cells": [
    {
      "cell_type": "code",
      "metadata": {
        "id": "nW432Ke-FfsU"
      },
      "source": [
        "#Importing the library\n",
        "import tensorflow as tf\n",
        "from d2l import tensorflow as d2l"
      ],
      "execution_count": null,
      "outputs": []
    },
    {
      "cell_type": "code",
      "metadata": {
        "id": "zpfDoENOwSXI"
      },
      "source": [
        "#!pip install d2l==0.16.6 #==> if d2l is not working then setup the environment '''\n"
      ],
      "execution_count": null,
      "outputs": []
    },
    {
      "cell_type": "code",
      "metadata": {
        "id": "z_KmNMU0ppP_"
      },
      "source": [
        "\n",
        "class Residual(tf.keras.Model):  #save\n",
        "    \"\"\"The Residual block of ResNet.\"\"\"\n",
        "    def __init__(self, num_channels, use_1x1conv=False, strides=1):\n",
        "        super().__init__()\n",
        "        self.conv1 = tf.keras.layers.Conv2D(num_channels, padding='same',\n",
        "                                            kernel_size=3, strides=strides)\n",
        "        self.conv2 = tf.keras.layers.Conv2D(num_channels, kernel_size=3,\n",
        "                                            padding='same')\n",
        "        self.conv3 = None\n",
        "        if use_1x1conv:\n",
        "            self.conv3 = tf.keras.layers.Conv2D(num_channels, kernel_size=1,\n",
        "                                                strides=strides)\n",
        "        self.bn1 = tf.keras.layers.BatchNormalization()\n",
        "        self.bn2 = tf.keras.layers.BatchNormalization()\n",
        "\n",
        "    def call(self, X):\n",
        "        Y = tf.keras.activations.relu(self.bn1(self.conv1(X)))\n",
        "        Y = self.bn2(self.conv2(Y))\n",
        "        if self.conv3 is not None:\n",
        "            X = self.conv3(X)\n",
        "        Y += X\n",
        "        return tf.keras.activations.relu(Y)"
      ],
      "execution_count": null,
      "outputs": []
    },
    {
      "cell_type": "code",
      "metadata": {
        "colab": {
          "base_uri": "https://localhost:8080/",
          "height": 52
        },
        "id": "vFJbBjb0p7Of",
        "outputId": "f8dff84b-3679-48d9-aa90-60ee2095004f"
      },
      "source": [
        "'''code generates two types of networks: one where we add the input to the output before applying the ReLU nonlinearity \n",
        "whenever use_1x1conv=False, and one where we adjust channels and resolution by means of a  1×1  convolution before adding'''"
      ],
      "execution_count": null,
      "outputs": [
        {
          "output_type": "execute_result",
          "data": {
            "application/vnd.google.colaboratory.intrinsic+json": {
              "type": "string"
            },
            "text/plain": [
              "'code generates two types of networks: one where we add the input to the output before applying the ReLU nonlinearity \\nwhenever use_1x1conv=False, and one where we adjust channels and resolution by means of a  1×1  convolution before adding'"
            ]
          },
          "metadata": {
            "tags": []
          },
          "execution_count": 6
        }
      ]
    },
    {
      "cell_type": "code",
      "metadata": {
        "colab": {
          "base_uri": "https://localhost:8080/"
        },
        "id": "MArAxCRDqPVv",
        "outputId": "6a62da7d-f48a-4d28-c5f2-5f112d4e2627"
      },
      "source": [
        "#input and output are of the same shape\n",
        "blk = Residual(3)\n",
        "X = tf.random.uniform((4, 6, 6, 3))\n",
        "Y = blk(X)\n",
        "Y.shape\n"
      ],
      "execution_count": null,
      "outputs": [
        {
          "output_type": "execute_result",
          "data": {
            "text/plain": [
              "TensorShape([4, 6, 6, 3])"
            ]
          },
          "metadata": {
            "tags": []
          },
          "execution_count": 7
        }
      ]
    },
    {
      "cell_type": "code",
      "metadata": {
        "colab": {
          "base_uri": "https://localhost:8080/"
        },
        "id": "XCVYEertqYr_",
        "outputId": "178a596d-a657-426b-d4f4-76a5478da920"
      },
      "source": [
        "# halve the output height and width while increasing the number of output channels\n",
        "blk = Residual(6, use_1x1conv=True, strides=2)\n",
        "blk(X).shape"
      ],
      "execution_count": null,
      "outputs": [
        {
          "output_type": "execute_result",
          "data": {
            "text/plain": [
              "TensorShape([4, 3, 3, 6])"
            ]
          },
          "metadata": {
            "tags": []
          },
          "execution_count": 8
        }
      ]
    },
    {
      "cell_type": "code",
      "metadata": {
        "id": "VV5U02ZAqnqc"
      },
      "source": [
        "# ResNet Model\n",
        "b1 = tf.keras.models.Sequential([\n",
        "    tf.keras.layers.Conv2D(64, kernel_size=7, strides=2, padding='same'),\n",
        "    tf.keras.layers.BatchNormalization(),\n",
        "    tf.keras.layers.Activation('relu'),\n",
        "    tf.keras.layers.MaxPool2D(pool_size=3, strides=2, padding='same')])"
      ],
      "execution_count": null,
      "outputs": []
    },
    {
      "cell_type": "code",
      "metadata": {
        "id": "K8pakyhdrtas"
      },
      "source": [
        "class ResnetBlock(tf.keras.layers.Layer):\n",
        "    def __init__(self, num_channels, num_residuals, first_block=False,\n",
        "                 **kwargs):\n",
        "        super(ResnetBlock, self).__init__(**kwargs)\n",
        "        self.residual_layers = []\n",
        "        for i in range(num_residuals):\n",
        "            if i == 0 and not first_block:\n",
        "                self.residual_layers.append(\n",
        "                    Residual(num_channels, use_1x1conv=True, strides=2))\n",
        "            else:\n",
        "                self.residual_layers.append(Residual(num_channels))\n",
        "\n",
        "    def call(self, X):\n",
        "        for layer in self.residual_layers.layers:\n",
        "            X = layer(X)\n",
        "        return X"
      ],
      "execution_count": null,
      "outputs": []
    },
    {
      "cell_type": "code",
      "metadata": {
        "id": "xD1D_mXbrtxS"
      },
      "source": [
        "#we add all the modules to ResNet. Here, two residual blocks are used for each module.\n",
        "b2 = ResnetBlock(64, 2, first_block=True)\n",
        "b3 = ResnetBlock(128, 2)\n",
        "b4 = ResnetBlock(256, 2)\n",
        "b5 = ResnetBlock(512, 2)"
      ],
      "execution_count": null,
      "outputs": []
    },
    {
      "cell_type": "code",
      "metadata": {
        "id": "aWK23ctIrxlm"
      },
      "source": [
        "#we add a global average pooling layer, followed by the fully-connected layer output\n",
        "def net():\n",
        "    return tf.keras.Sequential([\n",
        "        # The following layers are the same as b1 that we created earlier\n",
        "        tf.keras.layers.Conv2D(64, kernel_size=7, strides=2, padding='same'),\n",
        "        tf.keras.layers.BatchNormalization(),\n",
        "        tf.keras.layers.Activation('relu'),\n",
        "        tf.keras.layers.MaxPool2D(pool_size=3, strides=2, padding='same'),\n",
        "        #created b1, b2, b3, b4, b5 but we will recreate them inside this function's scope instead\n",
        "        # The following layers are the same as b2, b3, b4, and b5 that we created earlier\n",
        "        ResnetBlock(64, 2, first_block=True),\n",
        "        ResnetBlock(128, 2),\n",
        "        ResnetBlock(256, 2),\n",
        "        ResnetBlock(512, 2),\n",
        "        tf.keras.layers.GlobalAvgPool2D(),\n",
        "        tf.keras.layers.Dense(units=10)])"
      ],
      "execution_count": null,
      "outputs": []
    },
    {
      "cell_type": "code",
      "metadata": {
        "colab": {
          "base_uri": "https://localhost:8080/"
        },
        "id": "kZ-hdw1wsMvS",
        "outputId": "76cc73f6-5ee1-4097-be7d-288845fdba4b"
      },
      "source": [
        "#observe how the input shape changes across different modules in ResNet\n",
        "X = tf.random.uniform(shape=(1, 224, 224, 1))\n",
        "for layer in net().layers:\n",
        "    X = layer(X)\n",
        "    print(layer.__class__.__name__, 'output shape:\\t', X.shape)"
      ],
      "execution_count": null,
      "outputs": [
        {
          "output_type": "stream",
          "text": [
            "Conv2D output shape:\t (1, 112, 112, 64)\n",
            "BatchNormalization output shape:\t (1, 112, 112, 64)\n",
            "Activation output shape:\t (1, 112, 112, 64)\n",
            "MaxPooling2D output shape:\t (1, 56, 56, 64)\n",
            "ResnetBlock output shape:\t (1, 56, 56, 64)\n",
            "ResnetBlock output shape:\t (1, 28, 28, 128)\n",
            "ResnetBlock output shape:\t (1, 14, 14, 256)\n",
            "ResnetBlock output shape:\t (1, 7, 7, 512)\n",
            "GlobalAveragePooling2D output shape:\t (1, 512)\n",
            "Dense output shape:\t (1, 10)\n"
          ],
          "name": "stdout"
        }
      ]
    },
    {
      "cell_type": "code",
      "metadata": {
        "id": "QXKSmYilsTIP"
      },
      "source": [
        "#Training\n",
        "lr, num_epochs, batch_size = 0.05, 10, 256\n",
        "train_iter, test_iter = d2l.load_data_fashion_mnist(batch_size, resize=96)\n"
      ],
      "execution_count": 16,
      "outputs": []
    },
    {
      "cell_type": "code",
      "metadata": {
        "id": "jo3Qr-6rs53F"
      },
      "source": [
        "d2l.train_ch6(net, train_iter, test_iter, num_epochs, lr, d2l.try_gpu())\n"
      ],
      "execution_count": null,
      "outputs": []
    },
    {
      "cell_type": "code",
      "metadata": {
        "id": "lbfzx0xns7YO"
      },
      "source": [
        ""
      ],
      "execution_count": null,
      "outputs": []
    }
  ]
}